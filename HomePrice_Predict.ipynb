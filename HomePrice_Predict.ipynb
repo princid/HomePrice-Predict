{
  "nbformat": 4,
  "nbformat_minor": 0,
  "metadata": {
    "colab": {
      "name": "HomePrice-Predict.ipynb",
      "provenance": [],
      "collapsed_sections": [],
      "authorship_tag": "ABX9TyNMtWZ8n/f5ry2dAZe5U+xa",
      "include_colab_link": true
    },
    "kernelspec": {
      "name": "python3",
      "display_name": "Python 3"
    },
    "language_info": {
      "name": "python"
    }
  },
  "cells": [
    {
      "cell_type": "markdown",
      "metadata": {
        "id": "view-in-github",
        "colab_type": "text"
      },
      "source": [
        "<a href=\"https://colab.research.google.com/github/princid/HomePrice-Predict/blob/main/HomePrice_Predict.ipynb\" target=\"_parent\"><img src=\"https://colab.research.google.com/assets/colab-badge.svg\" alt=\"Open In Colab\"/></a>"
      ]
    },
    {
      "cell_type": "code",
      "execution_count": 8,
      "metadata": {
        "colab": {
          "base_uri": "https://localhost:8080/"
        },
        "id": "2awVDoD0GU3X",
        "outputId": "048b1b57-9912-4a81-b529-d1a7b216c342"
      },
      "outputs": [
        {
          "output_type": "stream",
          "name": "stdout",
          "text": [
            "   area  bedrooms  age   price\n",
            "0  2600       3.0   20  550000\n",
            "1  3000       4.0   15  565000\n",
            "2  3200       NaN   18  610000\n",
            "3  3600       3.0   30  595000\n",
            "4  4000       5.0    8  760000\n",
            "5  4100       6.0    8  810000\n",
            "   area  bedrooms  age   price\n",
            "0  2600       3.0   20  550000\n",
            "1  3000       4.0   15  565000\n",
            "2  3200       4.0   18  610000\n",
            "3  3600       3.0   30  595000\n",
            "4  4000       5.0    8  760000\n",
            "5  4100       6.0    8  810000\n",
            "Intercept =  221323.00186540396\n",
            "Coef =  [  112.06244194 23388.88007794 -3231.71790863]\n",
            "[498408.25158031]\n"
          ]
        },
        {
          "output_type": "stream",
          "name": "stderr",
          "text": [
            "/usr/local/lib/python3.7/dist-packages/sklearn/base.py:451: UserWarning: X does not have valid feature names, but LinearRegression was fitted with feature names\n",
            "  \"X does not have valid feature names, but\"\n"
          ]
        }
      ],
      "source": [
        "# multiple Linear Regression Model\n",
        "import pandas as pd\n",
        "from sklearn import linear_model\n",
        "\n",
        "# read data set file\n",
        "data_frame = pd.read_csv(\"/content/Home_Price.csv\")\n",
        "print(data_frame)\n",
        "\n",
        "# Fill NaN values\n",
        "data_frame.bedrooms = data_frame.bedrooms.fillna(data_frame.bedrooms.median())\n",
        "print(data_frame)\n",
        "\n",
        "# Creating Linear Model\n",
        "model = linear_model.LinearRegression()\n",
        "model.fit(data_frame.drop('price', axis = 'columns'), data_frame.price)\n",
        "\n",
        "# coef. and intercept\n",
        "print(\"Intercept = \", model.intercept_)\n",
        "print(\"Coef = \", model.coef_)\n",
        "\n",
        "# Predict Values\n",
        "ans = model.predict([[3000,3,40]])\n",
        "print(ans)"
      ]
    }
  ]
}